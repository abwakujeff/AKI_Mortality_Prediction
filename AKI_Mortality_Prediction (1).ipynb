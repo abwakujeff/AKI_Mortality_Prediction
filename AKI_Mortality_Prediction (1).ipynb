{
  "nbformat": 4,
  "nbformat_minor": 0,
  "metadata": {
    "colab": {
      "provenance": []
    },
    "kernelspec": {
      "name": "python3",
      "display_name": "Python 3"
    },
    "language_info": {
      "name": "python"
    }
  },
  "cells": [
    {
      "cell_type": "markdown",
      "source": [
        "#### Import libraries"
      ],
      "metadata": {
        "id": "YrCrwd3u71Ba"
      }
    },
    {
      "cell_type": "code",
      "execution_count": 2,
      "metadata": {
        "id": "Krx6gcC07m4I"
      },
      "outputs": [],
      "source": [
        "import pandas as pd\n",
        "import numpy as np\n",
        "import matplotlib.pyplot as plt\n",
        "import seaborn as sns\n",
        "from sklearn.model_selection import train_test_split, cross_val_score, GridSearchCV\n",
        "from sklearn.preprocessing import StandardScaler, LabelEncoder\n",
        "from sklearn.linear_model import LogisticRegression\n",
        "from sklearn.ensemble import RandomForestClassifier, GradientBoostingClassifier\n",
        "from sklearn.svm import SVC\n",
        "from sklearn.metrics import roc_auc_score, f1_score, roc_curve, confusion_matrix\n",
        "from imblearn.over_sampling import SMOTE  # for handlinG imbalance if needed\n",
        "\n",
        "import warnings\n",
        "warnings.filterwarnings('ignore')"
      ]
    },
    {
      "cell_type": "code",
      "source": [
        "from google.colab import drive\n",
        "\n",
        "# Mount Google Drive\n",
        "drive.mount('/content/drive')\n"
      ],
      "metadata": {
        "colab": {
          "base_uri": "https://localhost:8080/"
        },
        "id": "8_wx0Fq-7yQT",
        "outputId": "7ce30e2f-1521-4be9-fa06-97ad89622013"
      },
      "execution_count": 3,
      "outputs": [
        {
          "output_type": "stream",
          "name": "stdout",
          "text": [
            "Drive already mounted at /content/drive; to attempt to forcibly remount, call drive.mount(\"/content/drive\", force_remount=True).\n"
          ]
        }
      ]
    },
    {
      "cell_type": "code",
      "source": [
        "df = pd.read_csv('/content/drive/MyDrive/AML/Capstone Group Project/ihm_aki.csv')"
      ],
      "metadata": {
        "id": "4fScpAFP9psU"
      },
      "execution_count": 4,
      "outputs": []
    },
    {
      "cell_type": "code",
      "source": [
        "\n",
        "# Basic information about the dataset\n",
        "print(\"=== DATASET SHAPE ===\")\n",
        "print(f\"Rows: {df.shape[0]}, Columns: {df.shape[1]}\")\n",
        "print(\"\\n\")\n",
        "\n",
        "print(\"=== FIRST 5 ROWS ===\")\n",
        "print(df.head())\n",
        "print(\"\\n\")\n",
        "\n",
        "print(\"=== LAST 5 ROWS ===\")\n",
        "print(df.tail())\n",
        "print(\"\\n\")\n",
        "\n",
        "print(\"=== COLUMN NAMES ===\")\n",
        "print(df.columns.tolist())\n",
        "print(\"\\n\")"
      ],
      "metadata": {
        "colab": {
          "base_uri": "https://localhost:8080/"
        },
        "id": "HCIYRrLI96JE",
        "outputId": "df06c978-1873-409d-95f9-9d70473b87e4"
      },
      "execution_count": 5,
      "outputs": [
        {
          "output_type": "stream",
          "name": "stdout",
          "text": [
            "=== DATASET SHAPE ===\n",
            "Rows: 3550, Columns: 36\n",
            "\n",
            "\n",
            "=== FIRST 5 ROWS ===\n",
            "   Unnamed: 0    age  gender_F  gender_M  bic_max  bic_mean  bic_min  \\\n",
            "0           0  74.63         1         0     40.0     34.62     30.0   \n",
            "1           1  60.12         1         0     34.0     28.94     24.0   \n",
            "2           2  64.12         1         0     26.0     24.07     21.0   \n",
            "3           4  54.46         0         1     34.0     30.98     26.0   \n",
            "4           5  78.22         0         1     29.6     23.10     18.0   \n",
            "\n",
            "   bilirubin  bp_max  bp_mean  ...  pot_mean  pot_min  sod_max  sod_mean  \\\n",
            "0        0.4  154.63   123.28  ...      3.85     3.30   143.50    141.50   \n",
            "1        0.2  113.12   104.68  ...      3.76     2.75   145.00    141.21   \n",
            "2        0.3  126.62   108.91  ...      3.86     3.50   145.00    140.86   \n",
            "3        1.0  151.38   114.38  ...      4.17     3.60   147.50    140.43   \n",
            "4        1.0  166.26   144.62  ...      4.10     3.40   150.25    141.22   \n",
            "\n",
            "   sod_min   temp  wbc_max  wbc_mean  wbc_min  IHM  \n",
            "0    139.0    NaN    13.70      9.20      6.4    0  \n",
            "1    139.0  38.04    21.30     17.69     14.4    0  \n",
            "2    138.0    NaN    33.90     19.39     10.5    0  \n",
            "3    135.0  36.83    29.00     13.18      2.5    1  \n",
            "4    136.5    NaN    46.86      8.68      0.3    1  \n",
            "\n",
            "[5 rows x 36 columns]\n",
            "\n",
            "\n",
            "=== LAST 5 ROWS ===\n",
            "      Unnamed: 0    age  gender_F  gender_M  bic_max  bic_mean  bic_min  \\\n",
            "3545        4425  45.84         0         1     31.0     28.37    23.25   \n",
            "3546        4426  42.69         0         1     30.0     25.71    21.00   \n",
            "3547        4428  56.10         1         0     25.0     23.29    21.00   \n",
            "3548        4429  87.51         1         0     34.0     28.38    22.00   \n",
            "3549        4430  21.19         1         0     26.0     20.44    15.00   \n",
            "\n",
            "      bilirubin  bp_max  bp_mean  ...  pot_mean  pot_min  sod_max  sod_mean  \\\n",
            "3545        0.3  150.29   139.20  ...      4.31     3.92    142.0    135.74   \n",
            "3546        0.2  241.00   158.57  ...      3.94     3.10    144.0    139.14   \n",
            "3547        NaN  130.12   122.43  ...      3.82     3.45    146.0    142.83   \n",
            "3548        NaN  122.94   102.48  ...      4.09     3.20    146.0    142.25   \n",
            "3549        0.2  123.58   115.72  ...      3.78     3.37    141.0    139.19   \n",
            "\n",
            "      sod_min   temp  wbc_max  wbc_mean  wbc_min  IHM  \n",
            "3545    129.0  38.63    16.70     13.27     10.3    0  \n",
            "3546    132.0    NaN    15.60      8.61      5.5    0  \n",
            "3547    138.0  39.85    19.65     14.81     11.8    1  \n",
            "3548    140.0    NaN    15.30     12.85     10.3    0  \n",
            "3549    137.0  37.47    18.50     14.24      9.2    0  \n",
            "\n",
            "[5 rows x 36 columns]\n",
            "\n",
            "\n",
            "=== COLUMN NAMES ===\n",
            "['Unnamed: 0', 'age', 'gender_F', 'gender_M', 'bic_max', 'bic_mean', 'bic_min', 'bilirubin', 'bp_max', 'bp_mean', 'bp_min', 'bun_max', 'bun_mean', 'bun_min', 'Days_in_uci', 'fio2', 'gcs_max', 'gcs_mean', 'gcs_min', 'hr_max', 'hr_mean', 'hr_min', 'max pao2', 'mean pao2', 'min pao2', 'pot_max', 'pot_mean', 'pot_min', 'sod_max', 'sod_mean', 'sod_min', 'temp', 'wbc_max', 'wbc_mean', 'wbc_min', 'IHM']\n",
            "\n",
            "\n"
          ]
        }
      ]
    },
    {
      "cell_type": "code",
      "source": [
        "print(\"=== DATA TYPES ===\")\n",
        "print(df.dtypes)\n",
        "print(\"\\n\")\n",
        "\n",
        "print(\"=== BASIC INFO ===\")\n",
        "df.info()"
      ],
      "metadata": {
        "colab": {
          "base_uri": "https://localhost:8080/"
        },
        "id": "suRCllg4-BnM",
        "outputId": "0325052c-1821-4a72-ebc7-d8f3279911f0"
      },
      "execution_count": 6,
      "outputs": [
        {
          "output_type": "stream",
          "name": "stdout",
          "text": [
            "=== DATA TYPES ===\n",
            "Unnamed: 0       int64\n",
            "age            float64\n",
            "gender_F         int64\n",
            "gender_M         int64\n",
            "bic_max        float64\n",
            "bic_mean       float64\n",
            "bic_min        float64\n",
            "bilirubin      float64\n",
            "bp_max         float64\n",
            "bp_mean        float64\n",
            "bp_min         float64\n",
            "bun_max        float64\n",
            "bun_mean       float64\n",
            "bun_min        float64\n",
            "Days_in_uci    float64\n",
            "fio2           float64\n",
            "gcs_max        float64\n",
            "gcs_mean       float64\n",
            "gcs_min        float64\n",
            "hr_max         float64\n",
            "hr_mean        float64\n",
            "hr_min         float64\n",
            "max pao2       float64\n",
            "mean pao2      float64\n",
            "min pao2       float64\n",
            "pot_max        float64\n",
            "pot_mean       float64\n",
            "pot_min        float64\n",
            "sod_max        float64\n",
            "sod_mean       float64\n",
            "sod_min        float64\n",
            "temp           float64\n",
            "wbc_max        float64\n",
            "wbc_mean       float64\n",
            "wbc_min        float64\n",
            "IHM              int64\n",
            "dtype: object\n",
            "\n",
            "\n",
            "=== BASIC INFO ===\n",
            "<class 'pandas.core.frame.DataFrame'>\n",
            "RangeIndex: 3550 entries, 0 to 3549\n",
            "Data columns (total 36 columns):\n",
            " #   Column       Non-Null Count  Dtype  \n",
            "---  ------       --------------  -----  \n",
            " 0   Unnamed: 0   3550 non-null   int64  \n",
            " 1   age          3550 non-null   float64\n",
            " 2   gender_F     3550 non-null   int64  \n",
            " 3   gender_M     3550 non-null   int64  \n",
            " 4   bic_max      3550 non-null   float64\n",
            " 5   bic_mean     3550 non-null   float64\n",
            " 6   bic_min      3550 non-null   float64\n",
            " 7   bilirubin    2893 non-null   float64\n",
            " 8   bp_max       3550 non-null   float64\n",
            " 9   bp_mean      3550 non-null   float64\n",
            " 10  bp_min       3550 non-null   float64\n",
            " 11  bun_max      3550 non-null   float64\n",
            " 12  bun_mean     3550 non-null   float64\n",
            " 13  bun_min      3550 non-null   float64\n",
            " 14  Days_in_uci  3550 non-null   float64\n",
            " 15  fio2         3152 non-null   float64\n",
            " 16  gcs_max      3550 non-null   float64\n",
            " 17  gcs_mean     3550 non-null   float64\n",
            " 18  gcs_min      3550 non-null   float64\n",
            " 19  hr_max       3550 non-null   float64\n",
            " 20  hr_mean      3550 non-null   float64\n",
            " 21  hr_min       3550 non-null   float64\n",
            " 22  max pao2     3417 non-null   float64\n",
            " 23  mean pao2    3417 non-null   float64\n",
            " 24  min pao2     3417 non-null   float64\n",
            " 25  pot_max      3550 non-null   float64\n",
            " 26  pot_mean     3550 non-null   float64\n",
            " 27  pot_min      3550 non-null   float64\n",
            " 28  sod_max      3550 non-null   float64\n",
            " 29  sod_mean     3550 non-null   float64\n",
            " 30  sod_min      3550 non-null   float64\n",
            " 31  temp         2325 non-null   float64\n",
            " 32  wbc_max      3550 non-null   float64\n",
            " 33  wbc_mean     3550 non-null   float64\n",
            " 34  wbc_min      3550 non-null   float64\n",
            " 35  IHM          3550 non-null   int64  \n",
            "dtypes: float64(32), int64(4)\n",
            "memory usage: 998.6 KB\n"
          ]
        }
      ]
    },
    {
      "cell_type": "code",
      "source": [
        "print(\"=== MISSING VALUES ===\")\n",
        "missing_data = df.isnull().sum()\n",
        "missing_percent = (df.isnull().sum() / len(df)) * 100\n",
        "missing_info = pd.DataFrame({\n",
        "    'Missing Count': missing_data,\n",
        "    'Missing Percentage': missing_percent\n",
        "})\n",
        "print(missing_info[missing_info['Missing Count'] > 0])\n",
        "print(\"\\n\")\n",
        "\n",
        "print(\"=== TOTAL MISSING VALUES ===\")\n",
        "print(f\"Total missing values in dataset: {df.isnull().sum().sum()}\")"
      ],
      "metadata": {
        "colab": {
          "base_uri": "https://localhost:8080/"
        },
        "id": "QcAPhHeR-Sht",
        "outputId": "8b767c85-7b12-459d-b406-7473ca17b71f"
      },
      "execution_count": 7,
      "outputs": [
        {
          "output_type": "stream",
          "name": "stdout",
          "text": [
            "=== MISSING VALUES ===\n",
            "           Missing Count  Missing Percentage\n",
            "bilirubin            657           18.507042\n",
            "fio2                 398           11.211268\n",
            "max pao2             133            3.746479\n",
            "mean pao2            133            3.746479\n",
            "min pao2             133            3.746479\n",
            "temp                1225           34.507042\n",
            "\n",
            "\n",
            "=== TOTAL MISSING VALUES ===\n",
            "Total missing values in dataset: 2679\n"
          ]
        }
      ]
    },
    {
      "cell_type": "code",
      "source": [
        "print(\"=== DESCRIPTIVE STATISTICS FOR NUMERICAL VARIABLES ===\")\n",
        "print(df.describe())"
      ],
      "metadata": {
        "colab": {
          "base_uri": "https://localhost:8080/"
        },
        "id": "9McEN-wN-i_O",
        "outputId": "9465df8d-2f34-4185-809d-e271c43bfbae"
      },
      "execution_count": 8,
      "outputs": [
        {
          "output_type": "stream",
          "name": "stdout",
          "text": [
            "=== DESCRIPTIVE STATISTICS FOR NUMERICAL VARIABLES ===\n",
            "        Unnamed: 0          age     gender_F     gender_M      bic_max  \\\n",
            "count  3550.000000  3550.000000  3550.000000  3550.000000  3550.000000   \n",
            "mean   2220.038028    64.286620     0.424507     0.575493    30.055363   \n",
            "std    1279.998208    15.986639     0.494338     0.494338     5.032318   \n",
            "min       0.000000    16.900000     0.000000     0.000000    14.500000   \n",
            "25%    1108.250000    54.112500     0.000000     0.000000    27.000000   \n",
            "50%    2220.500000    66.920000     0.000000     1.000000    30.000000   \n",
            "75%    3335.750000    77.207500     1.000000     1.000000    33.000000   \n",
            "max    4430.000000    89.000000     1.000000     1.000000    50.000000   \n",
            "\n",
            "          bic_mean      bic_min    bilirubin       bp_max      bp_mean  ...  \\\n",
            "count  3550.000000  3550.000000  2893.000000  3550.000000  3550.000000  ...   \n",
            "mean     25.606231    20.895972     1.586049   140.153299   122.734980  ...   \n",
            "std       4.147980     4.388776     3.168970    18.630140    14.647909  ...   \n",
            "min      12.330000     5.000000     0.000000    90.790000    84.620000  ...   \n",
            "25%      23.125000    18.000000     0.400000   126.510000   111.875000  ...   \n",
            "50%      25.460000    21.000000     0.700000   140.155000   121.635000  ...   \n",
            "75%      27.850000    23.500000     1.300000   153.080000   132.740000  ...   \n",
            "max      44.690000    39.000000    29.500000   241.000000   182.930000  ...   \n",
            "\n",
            "          pot_mean      pot_min      sod_max     sod_mean      sod_min  \\\n",
            "count  3550.000000  3550.000000  3550.000000  3550.000000  3550.000000   \n",
            "mean      4.047318     3.490163   144.345806   139.628034   134.872775   \n",
            "std       0.302202     0.321318     4.770282     3.691264     4.356401   \n",
            "min       3.230000     2.170000   127.000000   118.980000   100.000000   \n",
            "25%       3.840000     3.300000   141.000000   137.392500   132.330000   \n",
            "50%       4.020000     3.500000   144.000000   139.750000   135.000000   \n",
            "75%       4.220000     3.700000   147.500000   142.010000   138.000000   \n",
            "max       5.920000     5.200000   172.430000   154.900000   149.330000   \n",
            "\n",
            "              temp      wbc_max     wbc_mean      wbc_min          IHM  \n",
            "count  2325.000000  3550.000000  3550.000000  3550.000000  3550.000000  \n",
            "mean     36.892133    18.824369    12.569597     8.219685     0.274366  \n",
            "std       1.006496    12.861885     9.247942     7.039966     0.446257  \n",
            "min      31.670000     0.100000     0.100000     0.050000     0.000000  \n",
            "25%      36.290000    13.000000     9.240000     5.800000     0.000000  \n",
            "50%      36.890000    16.615000    11.620000     7.600000     0.000000  \n",
            "75%      37.520000    22.100000    14.557500     9.900000     1.000000  \n",
            "max      41.300000   521.450000   448.400000   351.100000     1.000000  \n",
            "\n",
            "[8 rows x 36 columns]\n"
          ]
        }
      ]
    },
    {
      "cell_type": "code",
      "source": [],
      "metadata": {
        "id": "QZKEOywi-0OL"
      },
      "execution_count": null,
      "outputs": []
    }
  ]
}
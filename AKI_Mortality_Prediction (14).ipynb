{
  "nbformat": 4,
  "nbformat_minor": 0,
  "metadata": {
    "colab": {
      "provenance": []
    },
    "kernelspec": {
      "name": "python3",
      "display_name": "Python 3"
    },
    "language_info": {
      "name": "python"
    }
  },
  "cells": [
    {
      "cell_type": "markdown",
      "source": [
        "#### Import libraries"
      ],
      "metadata": {
        "id": "YrCrwd3u71Ba"
      }
    },
    {
      "cell_type": "code",
      "execution_count": 2,
      "metadata": {
        "id": "Krx6gcC07m4I"
      },
      "outputs": [],
      "source": [
        "import pandas as pd\n",
        "import numpy as np\n",
        "import matplotlib.pyplot as plt\n",
        "import seaborn as sns\n",
        "from sklearn.model_selection import train_test_split, cross_val_score, GridSearchCV\n",
        "from sklearn.preprocessing import StandardScaler, LabelEncoder\n",
        "from sklearn.linear_model import LogisticRegression\n",
        "from sklearn.ensemble import RandomForestClassifier, GradientBoostingClassifier\n",
        "from sklearn.svm import SVC\n",
        "from sklearn.metrics import roc_auc_score, f1_score, roc_curve, confusion_matrix\n",
        "from imblearn.over_sampling import SMOTE  # for handlinG imbalance if needed\n",
        "\n",
        "import warnings\n",
        "warnings.filterwarnings('ignore')"
      ]
    },
    {
      "cell_type": "code",
      "source": [
        "from google.colab import drive\n",
        "\n",
        "# Mount Google Drive\n",
        "drive.mount('/content/drive')\n"
      ],
      "metadata": {
        "colab": {
          "base_uri": "https://localhost:8080/"
        },
        "id": "8_wx0Fq-7yQT",
        "outputId": "7ce30e2f-1521-4be9-fa06-97ad89622013"
      },
      "execution_count": 3,
      "outputs": [
        {
          "output_type": "stream",
          "name": "stdout",
          "text": [
            "Drive already mounted at /content/drive; to attempt to forcibly remount, call drive.mount(\"/content/drive\", force_remount=True).\n"
          ]
        }
      ]
    },
    {
      "cell_type": "code",
      "source": [
        "df = pd.read_csv('/content/drive/MyDrive/AML/Capstone Group Project/ihm_aki.csv')"
      ],
      "metadata": {
        "id": "4fScpAFP9psU"
      },
      "execution_count": 4,
      "outputs": []
    },
    {
      "cell_type": "code",
      "source": [
        "\n",
        "# Basic information about the dataset\n",
        "print(\"=== DATASET SHAPE ===\")\n",
        "print(f\"Rows: {df.shape[0]}, Columns: {df.shape[1]}\")\n",
        "print(\"\\n\")\n",
        "\n",
        "print(\"=== FIRST 5 ROWS ===\")\n",
        "print(df.head())\n",
        "print(\"\\n\")\n",
        "\n",
        "print(\"=== LAST 5 ROWS ===\")\n",
        "print(df.tail())\n",
        "print(\"\\n\")\n",
        "\n",
        "print(\"=== COLUMN NAMES ===\")\n",
        "print(df.columns.tolist())\n",
        "print(\"\\n\")"
      ],
      "metadata": {
        "colab": {
          "base_uri": "https://localhost:8080/"
        },
        "id": "HCIYRrLI96JE",
        "outputId": "df06c978-1873-409d-95f9-9d70473b87e4"
      },
      "execution_count": 5,
      "outputs": [
        {
          "output_type": "stream",
          "name": "stdout",
          "text": [
            "=== DATASET SHAPE ===\n",
            "Rows: 3550, Columns: 36\n",
            "\n",
            "\n",
            "=== FIRST 5 ROWS ===\n",
            "   Unnamed: 0    age  gender_F  gender_M  bic_max  bic_mean  bic_min  \\\n",
            "0           0  74.63         1         0     40.0     34.62     30.0   \n",
            "1           1  60.12         1         0     34.0     28.94     24.0   \n",
            "2           2  64.12         1         0     26.0     24.07     21.0   \n",
            "3           4  54.46         0         1     34.0     30.98     26.0   \n",
            "4           5  78.22         0         1     29.6     23.10     18.0   \n",
            "\n",
            "   bilirubin  bp_max  bp_mean  ...  pot_mean  pot_min  sod_max  sod_mean  \\\n",
            "0        0.4  154.63   123.28  ...      3.85     3.30   143.50    141.50   \n",
            "1        0.2  113.12   104.68  ...      3.76     2.75   145.00    141.21   \n",
            "2        0.3  126.62   108.91  ...      3.86     3.50   145.00    140.86   \n",
            "3        1.0  151.38   114.38  ...      4.17     3.60   147.50    140.43   \n",
            "4        1.0  166.26   144.62  ...      4.10     3.40   150.25    141.22   \n",
            "\n",
            "   sod_min   temp  wbc_max  wbc_mean  wbc_min  IHM  \n",
            "0    139.0    NaN    13.70      9.20      6.4    0  \n",
            "1    139.0  38.04    21.30     17.69     14.4    0  \n",
            "2    138.0    NaN    33.90     19.39     10.5    0  \n",
            "3    135.0  36.83    29.00     13.18      2.5    1  \n",
            "4    136.5    NaN    46.86      8.68      0.3    1  \n",
            "\n",
            "[5 rows x 36 columns]\n",
            "\n",
            "\n",
            "=== LAST 5 ROWS ===\n",
            "      Unnamed: 0    age  gender_F  gender_M  bic_max  bic_mean  bic_min  \\\n",
            "3545        4425  45.84         0         1     31.0     28.37    23.25   \n",
            "3546        4426  42.69         0         1     30.0     25.71    21.00   \n",
            "3547        4428  56.10         1         0     25.0     23.29    21.00   \n",
            "3548        4429  87.51         1         0     34.0     28.38    22.00   \n",
            "3549        4430  21.19         1         0     26.0     20.44    15.00   \n",
            "\n",
            "      bilirubin  bp_max  bp_mean  ...  pot_mean  pot_min  sod_max  sod_mean  \\\n",
            "3545        0.3  150.29   139.20  ...      4.31     3.92    142.0    135.74   \n",
            "3546        0.2  241.00   158.57  ...      3.94     3.10    144.0    139.14   \n",
            "3547        NaN  130.12   122.43  ...      3.82     3.45    146.0    142.83   \n",
            "3548        NaN  122.94   102.48  ...      4.09     3.20    146.0    142.25   \n",
            "3549        0.2  123.58   115.72  ...      3.78     3.37    141.0    139.19   \n",
            "\n",
            "      sod_min   temp  wbc_max  wbc_mean  wbc_min  IHM  \n",
            "3545    129.0  38.63    16.70     13.27     10.3    0  \n",
            "3546    132.0    NaN    15.60      8.61      5.5    0  \n",
            "3547    138.0  39.85    19.65     14.81     11.8    1  \n",
            "3548    140.0    NaN    15.30     12.85     10.3    0  \n",
            "3549    137.0  37.47    18.50     14.24      9.2    0  \n",
            "\n",
            "[5 rows x 36 columns]\n",
            "\n",
            "\n",
            "=== COLUMN NAMES ===\n",
            "['Unnamed: 0', 'age', 'gender_F', 'gender_M', 'bic_max', 'bic_mean', 'bic_min', 'bilirubin', 'bp_max', 'bp_mean', 'bp_min', 'bun_max', 'bun_mean', 'bun_min', 'Days_in_uci', 'fio2', 'gcs_max', 'gcs_mean', 'gcs_min', 'hr_max', 'hr_mean', 'hr_min', 'max pao2', 'mean pao2', 'min pao2', 'pot_max', 'pot_mean', 'pot_min', 'sod_max', 'sod_mean', 'sod_min', 'temp', 'wbc_max', 'wbc_mean', 'wbc_min', 'IHM']\n",
            "\n",
            "\n"
          ]
        }
      ]
    },
    {
      "cell_type": "code",
      "source": [
        "print(\"=== DATA TYPES ===\")\n",
        "print(df.dtypes)\n",
        "print(\"\\n\")\n",
        "\n",
        "print(\"=== BASIC INFO ===\")\n",
        "df.info()"
      ],
      "metadata": {
        "colab": {
          "base_uri": "https://localhost:8080/"
        },
        "id": "suRCllg4-BnM",
        "outputId": "0325052c-1821-4a72-ebc7-d8f3279911f0"
      },
      "execution_count": 6,
      "outputs": [
        {
          "output_type": "stream",
          "name": "stdout",
          "text": [
            "=== DATA TYPES ===\n",
            "Unnamed: 0       int64\n",
            "age            float64\n",
            "gender_F         int64\n",
            "gender_M         int64\n",
            "bic_max        float64\n",
            "bic_mean       float64\n",
            "bic_min        float64\n",
            "bilirubin      float64\n",
            "bp_max         float64\n",
            "bp_mean        float64\n",
            "bp_min         float64\n",
            "bun_max        float64\n",
            "bun_mean       float64\n",
            "bun_min        float64\n",
            "Days_in_uci    float64\n",
            "fio2           float64\n",
            "gcs_max        float64\n",
            "gcs_mean       float64\n",
            "gcs_min        float64\n",
            "hr_max         float64\n",
            "hr_mean        float64\n",
            "hr_min         float64\n",
            "max pao2       float64\n",
            "mean pao2      float64\n",
            "min pao2       float64\n",
            "pot_max        float64\n",
            "pot_mean       float64\n",
            "pot_min        float64\n",
            "sod_max        float64\n",
            "sod_mean       float64\n",
            "sod_min        float64\n",
            "temp           float64\n",
            "wbc_max        float64\n",
            "wbc_mean       float64\n",
            "wbc_min        float64\n",
            "IHM              int64\n",
            "dtype: object\n",
            "\n",
            "\n",
            "=== BASIC INFO ===\n",
            "<class 'pandas.core.frame.DataFrame'>\n",
            "RangeIndex: 3550 entries, 0 to 3549\n",
            "Data columns (total 36 columns):\n",
            " #   Column       Non-Null Count  Dtype  \n",
            "---  ------       --------------  -----  \n",
            " 0   Unnamed: 0   3550 non-null   int64  \n",
            " 1   age          3550 non-null   float64\n",
            " 2   gender_F     3550 non-null   int64  \n",
            " 3   gender_M     3550 non-null   int64  \n",
            " 4   bic_max      3550 non-null   float64\n",
            " 5   bic_mean     3550 non-null   float64\n",
            " 6   bic_min      3550 non-null   float64\n",
            " 7   bilirubin    2893 non-null   float64\n",
            " 8   bp_max       3550 non-null   float64\n",
            " 9   bp_mean      3550 non-null   float64\n",
            " 10  bp_min       3550 non-null   float64\n",
            " 11  bun_max      3550 non-null   float64\n",
            " 12  bun_mean     3550 non-null   float64\n",
            " 13  bun_min      3550 non-null   float64\n",
            " 14  Days_in_uci  3550 non-null   float64\n",
            " 15  fio2         3152 non-null   float64\n",
            " 16  gcs_max      3550 non-null   float64\n",
            " 17  gcs_mean     3550 non-null   float64\n",
            " 18  gcs_min      3550 non-null   float64\n",
            " 19  hr_max       3550 non-null   float64\n",
            " 20  hr_mean      3550 non-null   float64\n",
            " 21  hr_min       3550 non-null   float64\n",
            " 22  max pao2     3417 non-null   float64\n",
            " 23  mean pao2    3417 non-null   float64\n",
            " 24  min pao2     3417 non-null   float64\n",
            " 25  pot_max      3550 non-null   float64\n",
            " 26  pot_mean     3550 non-null   float64\n",
            " 27  pot_min      3550 non-null   float64\n",
            " 28  sod_max      3550 non-null   float64\n",
            " 29  sod_mean     3550 non-null   float64\n",
            " 30  sod_min      3550 non-null   float64\n",
            " 31  temp         2325 non-null   float64\n",
            " 32  wbc_max      3550 non-null   float64\n",
            " 33  wbc_mean     3550 non-null   float64\n",
            " 34  wbc_min      3550 non-null   float64\n",
            " 35  IHM          3550 non-null   int64  \n",
            "dtypes: float64(32), int64(4)\n",
            "memory usage: 998.6 KB\n"
          ]
        }
      ]
    },
    {
      "cell_type": "code",
      "source": [
        "print(\"=== MISSING VALUES ===\")\n",
        "missing_data = df.isnull().sum()\n",
        "missing_percent = (df.isnull().sum() / len(df)) * 100\n",
        "missing_info = pd.DataFrame({\n",
        "    'Missing Count': missing_data,\n",
        "    'Missing Percentage': missing_percent\n",
        "})\n",
        "print(missing_info[missing_info['Missing Count'] > 0])\n",
        "print(\"\\n\")\n",
        "\n",
        "print(\"=== TOTAL MISSING VALUES ===\")\n",
        "print(f\"Total missing values in dataset: {df.isnull().sum().sum()}\")"
      ],
      "metadata": {
        "colab": {
          "base_uri": "https://localhost:8080/"
        },
        "id": "QcAPhHeR-Sht",
        "outputId": "8b767c85-7b12-459d-b406-7473ca17b71f"
      },
      "execution_count": 7,
      "outputs": [
        {
          "output_type": "stream",
          "name": "stdout",
          "text": [
            "=== MISSING VALUES ===\n",
            "           Missing Count  Missing Percentage\n",
            "bilirubin            657           18.507042\n",
            "fio2                 398           11.211268\n",
            "max pao2             133            3.746479\n",
            "mean pao2            133            3.746479\n",
            "min pao2             133            3.746479\n",
            "temp                1225           34.507042\n",
            "\n",
            "\n",
            "=== TOTAL MISSING VALUES ===\n",
            "Total missing values in dataset: 2679\n"
          ]
        }
      ]
    },
    {
      "cell_type": "code",
      "source": [
        "print(\"=== DESCRIPTIVE STATISTICS FOR NUMERICAL VARIABLES ===\")\n",
        "print(df.describe())"
      ],
      "metadata": {
        "colab": {
          "base_uri": "https://localhost:8080/"
        },
        "id": "9McEN-wN-i_O",
        "outputId": "9465df8d-2f34-4185-809d-e271c43bfbae"
      },
      "execution_count": 8,
      "outputs": [
        {
          "output_type": "stream",
          "name": "stdout",
          "text": [
            "=== DESCRIPTIVE STATISTICS FOR NUMERICAL VARIABLES ===\n",
            "        Unnamed: 0          age     gender_F     gender_M      bic_max  \\\n",
            "count  3550.000000  3550.000000  3550.000000  3550.000000  3550.000000   \n",
            "mean   2220.038028    64.286620     0.424507     0.575493    30.055363   \n",
            "std    1279.998208    15.986639     0.494338     0.494338     5.032318   \n",
            "min       0.000000    16.900000     0.000000     0.000000    14.500000   \n",
            "25%    1108.250000    54.112500     0.000000     0.000000    27.000000   \n",
            "50%    2220.500000    66.920000     0.000000     1.000000    30.000000   \n",
            "75%    3335.750000    77.207500     1.000000     1.000000    33.000000   \n",
            "max    4430.000000    89.000000     1.000000     1.000000    50.000000   \n",
            "\n",
            "          bic_mean      bic_min    bilirubin       bp_max      bp_mean  ...  \\\n",
            "count  3550.000000  3550.000000  2893.000000  3550.000000  3550.000000  ...   \n",
            "mean     25.606231    20.895972     1.586049   140.153299   122.734980  ...   \n",
            "std       4.147980     4.388776     3.168970    18.630140    14.647909  ...   \n",
            "min      12.330000     5.000000     0.000000    90.790000    84.620000  ...   \n",
            "25%      23.125000    18.000000     0.400000   126.510000   111.875000  ...   \n",
            "50%      25.460000    21.000000     0.700000   140.155000   121.635000  ...   \n",
            "75%      27.850000    23.500000     1.300000   153.080000   132.740000  ...   \n",
            "max      44.690000    39.000000    29.500000   241.000000   182.930000  ...   \n",
            "\n",
            "          pot_mean      pot_min      sod_max     sod_mean      sod_min  \\\n",
            "count  3550.000000  3550.000000  3550.000000  3550.000000  3550.000000   \n",
            "mean      4.047318     3.490163   144.345806   139.628034   134.872775   \n",
            "std       0.302202     0.321318     4.770282     3.691264     4.356401   \n",
            "min       3.230000     2.170000   127.000000   118.980000   100.000000   \n",
            "25%       3.840000     3.300000   141.000000   137.392500   132.330000   \n",
            "50%       4.020000     3.500000   144.000000   139.750000   135.000000   \n",
            "75%       4.220000     3.700000   147.500000   142.010000   138.000000   \n",
            "max       5.920000     5.200000   172.430000   154.900000   149.330000   \n",
            "\n",
            "              temp      wbc_max     wbc_mean      wbc_min          IHM  \n",
            "count  2325.000000  3550.000000  3550.000000  3550.000000  3550.000000  \n",
            "mean     36.892133    18.824369    12.569597     8.219685     0.274366  \n",
            "std       1.006496    12.861885     9.247942     7.039966     0.446257  \n",
            "min      31.670000     0.100000     0.100000     0.050000     0.000000  \n",
            "25%      36.290000    13.000000     9.240000     5.800000     0.000000  \n",
            "50%      36.890000    16.615000    11.620000     7.600000     0.000000  \n",
            "75%      37.520000    22.100000    14.557500     9.900000     1.000000  \n",
            "max      41.300000   521.450000   448.400000   351.100000     1.000000  \n",
            "\n",
            "[8 rows x 36 columns]\n"
          ]
        }
      ]
    },
    {
      "cell_type": "code",
      "source": [
        "print(\"=== TARGET VARIABLE (IHM) DISTRIBUTION ===\")\n",
        "ihm_counts = df['IHM'].value_counts()\n",
        "ihm_percentages = df['IHM'].value_counts(normalize=True) * 100\n",
        "print(\"Counts:\")\n",
        "print(ihm_counts)\n",
        "print(\"\\nPercentages:\")\n",
        "print(ihm_percentages)\n",
        "print(\"\\n\")\n",
        "\n",
        "# Simple visualization\n",
        "import matplotlib.pyplot as plt\n",
        "plt.figure(figsize=(8, 6))\n",
        "df['IHM'].value_counts().plot(kind='bar')\n",
        "plt.title('Distribution of In-Hospital Mortality (IHM)')\n",
        "plt.xlabel('IHM (0 = Survived, 1 = Died)')\n",
        "plt.ylabel('Count')\n",
        "plt.show()"
      ],
      "metadata": {
        "colab": {
          "base_uri": "https://localhost:8080/",
          "height": 752
        },
        "id": "QZKEOywi-0OL",
        "outputId": "bc8dd98b-3c34-49aa-b32a-40f18dbaef20"
      },
      "execution_count": 9,
      "outputs": [
        {
          "output_type": "stream",
          "name": "stdout",
          "text": [
            "=== TARGET VARIABLE (IHM) DISTRIBUTION ===\n",
            "Counts:\n",
            "IHM\n",
            "0    2576\n",
            "1     974\n",
            "Name: count, dtype: int64\n",
            "\n",
            "Percentages:\n",
            "IHM\n",
            "0    72.56338\n",
            "1    27.43662\n",
            "Name: proportion, dtype: float64\n",
            "\n",
            "\n"
          ]
        },
        {
          "output_type": "display_data",
          "data": {
            "text/plain": [
              "<Figure size 800x600 with 1 Axes>"
            ],
            "image/png": "[encoded data removed]"
          },
          "metadata": {}
        }
      ]
    },
    {
      "cell_type": "markdown",
      "source": [
        "# Initial Observations and Analysis\n",
        "\n",
        "---\n",
        "\n",
        "## 1. Dataset Structure\n",
        "- **3,550 patients** with **36 variables** – this is a good sample size for machine learning.  \n",
        "- There is an **Unnamed: 0** column that appears to be an index – we'll likely **drop this**.  \n",
        "- The **target variable** is `IHM` *(In-Hospital Mortality)*.\n",
        "\n",
        "---\n",
        "\n",
        "## 2. Variable Naming Pattern\n",
        "I noticed an important detail about the variable names:\n",
        "- Many variables have suffixes like `_max`, `_mean`, `_min`  \n",
        "  *(e.g., `bic_max`, `bic_mean`, `bic_min`)*\n",
        "\n",
        "This suggests that we have **summary statistics** for each lab measurement over the ICU stay.\n",
        "\n",
        "**Example: Blood Pressure**\n",
        "- `bp_max` – highest blood pressure  \n",
        "- `bp_mean` – average blood pressure  \n",
        "- `bp_min` – lowest blood pressure  \n",
        "\n",
        "> **Clinical Insight:**  \n",
        "> This is very useful!  \n",
        "> The **range and variability** of vital signs can be just as important as a single measurement.\n",
        "\n",
        "---\n",
        "\n",
        "## 3. Data Types and Gender Encoding\n",
        "- **All variables are numerical**, which is great for machine learning.\n",
        "- Gender is **already one-hot encoded**:\n",
        "  - `gender_F = 1` if female, `0` if male\n",
        "  - `gender_M = 1` if male, `0` if female\n",
        "\n",
        "This means **no additional encoding is needed** for gender.\n",
        "\n",
        "---\n",
        "\n",
        "## 4. Missing Values Analysis\n",
        "Let's look at the **missing data**:\n",
        "\n",
        "| Variable      | Missing Count | Missing % |\n",
        "|---------------|---------------|-----------|\n",
        "| bilirubin     | 657           | 18.5%     |\n",
        "| fio2          | 398           | 11.2%     |\n",
        "| max_pao2      | 133           | 3.7%      |\n",
        "| mean_pao2     | 133           | 3.7%      |\n",
        "| min_pao2      | 133           | 3.7%      |\n",
        "| temp          | 1,225         | 34.5%     |\n",
        "\n",
        "**Key Insights:**\n",
        "- `temp` *(temperature)* has the **most missing data** → **34.5%** (significant!)\n",
        "- `bilirubin` missing **18.5%**\n",
        "- PaO2 variables (`max_pao2`, `mean_pao2`, `min_pao2`) are **missing together**, which makes clinical sense.\n",
        "- Many variables have **NO missing data**, which is great!\n",
        "\n",
        "---\n",
        "\n",
        "## 5. Target Variable Distribution\n",
        "\n",
        "```python\n",
        "IHM\n",
        "0    2576 (72.6%)  # Survived\n",
        "1     974 (27.4%)  # Died\n"
      ],
      "metadata": {
        "id": "TUIJQhntAcuA"
      }
    },
    {
      "cell_type": "markdown",
      "source": [
        "This is **class imbalance**! We have about 3 times more survivors than deaths. This is common in medical datasets but will affect our model training."
      ],
      "metadata": {
        "id": "i5-VcZc8Cm3q"
      }
    },
    {
      "cell_type": "markdown",
      "source": [
        "### Initial Clinical Observations\n",
        "Looking at the descriptive statistics:\n",
        "\n",
        "* **Age:** Mean 64.3 years (range 16.9-89) - typical ICU population\n",
        "\n",
        "\n",
        "* **White Blood Cells (WBC):** Some very high values (max 521.45) - possible outliers or severe infections\n",
        "\n",
        "* **GCS (Glasgow Coma Scale):** Lower scores indicate worse neurological function\n",
        "\n",
        "* **Vital signs:** Appear to be in reasonable ranges"
      ],
      "metadata": {
        "id": "MP9mY0peCsoW"
      }
    },
    {
      "cell_type": "code",
      "source": [],
      "metadata": {
        "id": "qxV0JJLXDPRJ"
      },
      "execution_count": null,
      "outputs": []
    },
    {
      "cell_type": "code",
      "source": [],
      "metadata": {
        "id": "KDXJ9gdnDPMr"
      },
      "execution_count": null,
      "outputs": []
    },
    {
      "cell_type": "code",
      "source": [
        "# 1. Check the Days_in_uci variable specifically\n",
        "print(\"=== DAYS IN ICU DISTRIBUTION ===\")\n",
        "print(df['Days_in_uci'].describe())\n",
        "print(\"\\n\")\n",
        "\n",
        "# 2. Check for any potential data quality issues with extreme values\n",
        "print(\"=== VARIABLES WITH POTENTIAL OUTLIERS ===\")\n",
        "outlier_check = df[['wbc_max', 'wbc_mean', 'wbc_min', 'bun_max', 'bilirubin']].describe()\n",
        "print(outlier_check)\n",
        "print(\"\\n\")\n",
        "\n",
        "# 3. Check if gender encoding makes sense (no patient should be both M and F)\n",
        "print(\"=== GENDER CONSISTENCY CHECK ===\")\n",
        "print(f\"Patients with both genders: {((df['gender_F'] == 1) & (df['gender_M'] == 1)).sum()}\")\n",
        "print(f\"Patients with no gender: {((df['gender_F'] == 0) & (df['gender_M'] == 0)).sum()}\")\n",
        "print(\"\\n\")\n",
        "\n",
        "# 4. Look at the relationship between missing values and the target variable\n",
        "print(\"=== MISSING DATA PATTERNS BY OUTCOME ===\")\n",
        "# For temperature (most missing)\n",
        "temp_missing = df['temp'].isnull()\n",
        "print(\"Mortality rate when temp is missing vs present:\")\n",
        "print(f\"When temp missing: {df[temp_missing]['IHM'].mean():.3f}\")\n",
        "print(f\"When temp present: {df[~temp_missing]['IHM'].mean():.3f}\")"
      ],
      "metadata": {
        "colab": {
          "base_uri": "https://localhost:8080/"
        },
        "id": "dVntwyDH-6Z9",
        "outputId": "48a1fe83-23ed-4ac5-b0f7-ce111a354e8d"
      },
      "execution_count": 10,
      "outputs": [
        {
          "output_type": "stream",
          "name": "stdout",
          "text": [
            "=== DAYS IN ICU DISTRIBUTION ===\n",
            "count    3550.000000\n",
            "mean       12.990704\n",
            "std         9.637976\n",
            "min         5.000000\n",
            "25%         7.000000\n",
            "50%        10.000000\n",
            "75%        15.000000\n",
            "max        98.000000\n",
            "Name: Days_in_uci, dtype: float64\n",
            "\n",
            "\n",
            "=== VARIABLES WITH POTENTIAL OUTLIERS ===\n",
            "           wbc_max     wbc_mean      wbc_min      bun_max    bilirubin\n",
            "count  3550.000000  3550.000000  3550.000000  3550.000000  2893.000000\n",
            "mean     18.824369    12.569597     8.219685    49.267746     1.586049\n",
            "std      12.861885     9.247942     7.039966    34.316147     3.168970\n",
            "min       0.100000     0.100000     0.050000     2.000000     0.000000\n",
            "25%      13.000000     9.240000     5.800000    24.000000     0.400000\n",
            "50%      16.615000    11.620000     7.600000    38.000000     0.700000\n",
            "75%      22.100000    14.557500     9.900000    65.000000     1.300000\n",
            "max     521.450000   448.400000   351.100000   242.000000    29.500000\n",
            "\n",
            "\n",
            "=== GENDER CONSISTENCY CHECK ===\n",
            "Patients with both genders: 0\n",
            "Patients with no gender: 0\n",
            "\n",
            "\n",
            "=== MISSING DATA PATTERNS BY OUTCOME ===\n",
            "Mortality rate when temp is missing vs present:\n",
            "When temp missing: 0.220\n",
            "When temp present: 0.303\n"
          ]
        }
      ]
    },
    {
      "cell_type": "markdown",
      "source": [
        "**Key Insights:**\n",
        "\n",
        "* **Minimum of 5 days** - This is unusual since AKI patients typically don't stay exactly 5 days minimum. This might be a data collection artifact or inclusion criteria.\n",
        "\n",
        "* **Median stay:** 10 days - Half of patients stay 10 days or less\n",
        "\n",
        "* **Maximum 98 days** - This is an extremely long ICU stay, likely representing very critically ill patients\n",
        "\n",
        " * **Mean > Median (12.99 vs 10)** - The distribution is right-skewed, meaning there are some patients with very long stays pulling the average up"
      ],
      "metadata": {
        "id": "bEDdTbsPFGLp"
      }
    },
    {
      "cell_type": "markdown",
      "source": [
        "## 5. Target Variable Distribution\n",
        "\n",
        "```python\n",
        "IHM\n",
        "0    2576 (72.6%)  # Survived\n",
        "1     974 (27.4%)  # Died"
      ],
      "metadata": {
        "id": "vja_10NqGIFq"
      }
    },
    {
      "cell_type": "markdown",
      "source": [
        "###**Clinical Context:**\n",
        "\n",
        "* Normal WBC range: 4,000-11,000 cells/μL (or 4-11 in the units shown)\n",
        "\n",
        "* Values like 521 are 50 times normal - these could be:\n",
        "\n",
        "  * Severe infections (sepsis)\n",
        "\n",
        "  * Hematological cancers (leukemia)\n",
        "\n",
        "  * Data entry errors\n",
        "\n",
        "Very low values (<1.0) could indicate bone marrow suppression"
      ],
      "metadata": {
        "id": "uJcGdiNiHAxK"
      }
    },
    {
      "cell_type": "markdown",
      "source": [
        "**BUN (Blood Urea Nitrogen):**\n",
        "\n",
        "Max 242 mg/dL (normal is 7-20 mg/dL) - indicates severe kidney impairment"
      ],
      "metadata": {
        "id": "VOwcPf6BHjZ7"
      }
    },
    {
      "cell_type": "markdown",
      "source": [
        "**Bilirubin:**\n",
        "\n",
        "Max 29.5 mg/dL (normal <1.2 mg/dL) - indicates severe liver dysfunctio"
      ],
      "metadata": {
        "id": "IwHKJsOPHoKT"
      }
    },
    {
      "cell_type": "markdown",
      "source": [
        "Mortality rate when temp is missing vs present:  \n",
        "* When temp missing: 0.220 (22.0%)\n",
        "* When temp present: 0.303 (30.3%)"
      ],
      "metadata": {
        "id": "b8j9VvN6HxGp"
      }
    },
    {
      "cell_type": "markdown",
      "source": [
        "This is extremely important! Patients with missing temperature data have LOWER mortality (22%) than those with temperature data (30.3%). This tells us:  \n",
        "\n",
        "* Missing data is **NOT random** - it's systematically related to outcomes\n",
        "\n",
        "* Temperature might be measured more frequently in sicker patients\n",
        "\n",
        "* This has major implications for how we handle missing data"
      ],
      "metadata": {
        "id": "hgJrXh2vH_fD"
      }
    },
    {
      "cell_type": "code",
      "source": [
        "# 1. Check if the 5-day minimum in ICU is a data artifact\n",
        "print(\"=== PATIENTS WITH EXACTLY 5 DAYS IN ICU ===\")\n",
        "five_day_patients = df[df['Days_in_uci'] == 5]\n",
        "print(f\"Number of patients with exactly 5 days: {len(five_day_patients)}\")\n",
        "print(f\"Mortality rate for 5-day patients: {five_day_patients['IHM'].mean():.3f}\")\n",
        "print(\"\\n\")\n",
        "\n",
        "# 2. Look at the extreme WBC values more closely\n",
        "print(\"=== PATIENTS WITH EXTREMELY HIGH WBC (>100) ===\")\n",
        "high_wbc = df[df['wbc_max'] > 100]\n",
        "print(f\"Number of patients with WBC > 100: {len(high_wbc)}\")\n",
        "print(f\"Average WBC in this group: {high_wbc['wbc_max'].mean():.2f}\")\n",
        "print(f\"Mortality rate in high WBC group: {high_wbc['IHM'].mean():.3f}\")\n",
        "print(\"\\n\")\n",
        "\n",
        "# 3. Check missing data patterns for other variables\n",
        "print(\"=== MISSING DATA PATTERNS FOR OTHER VARIABLES ===\")\n",
        "variables_to_check = ['bilirubin', 'fio2', 'max pao2']\n",
        "for var in variables_to_check:\n",
        "    missing = df[var].isnull()\n",
        "    if missing.sum() > 0:\n",
        "        mortality_missing = df[missing]['IHM'].mean()\n",
        "        mortality_present = df[~missing]['IHM'].mean()\n",
        "        print(f\"{var}:\")\n",
        "        print(f\"  When missing: {mortality_missing:.3f}\")\n",
        "        print(f\"  When present: {mortality_present:.3f}\")\n",
        "        print(f\"  Difference: {mortality_present - mortality_missing:.3f}\")\n",
        "print(\"\\n\")\n",
        "\n",
        "# 4. Check basic age distribution by outcome\n",
        "print(\"=== AGE DISTRIBUTION BY MORTALITY ===\")\n",
        "print(\"Survivors age stats:\")\n",
        "print(df[df['IHM'] == 0]['age'].describe())\n",
        "print(\"\\nNon-survivors age stats:\")\n",
        "print(df[df['IHM'] == 1]['age'].describe())"
      ],
      "metadata": {
        "colab": {
          "base_uri": "https://localhost:8080/"
        },
        "id": "mdhG2-alHwAu",
        "outputId": "fc78e2b1-d677-4fd5-c158-26757c2a7073"
      },
      "execution_count": 12,
      "outputs": [
        {
          "output_type": "stream",
          "name": "stdout",
          "text": [
            "=== PATIENTS WITH EXACTLY 5 DAYS IN ICU ===\n",
            "Number of patients with exactly 5 days: 377\n",
            "Mortality rate for 5-day patients: 0.210\n",
            "\n",
            "\n",
            "=== PATIENTS WITH EXTREMELY HIGH WBC (>100) ===\n",
            "Number of patients with WBC > 100: 5\n",
            "Average WBC in this group: 214.64\n",
            "Mortality rate in high WBC group: 0.800\n",
            "\n",
            "\n",
            "=== MISSING DATA PATTERNS FOR OTHER VARIABLES ===\n",
            "bilirubin:\n",
            "  When missing: 0.154\n",
            "  When present: 0.302\n",
            "  Difference: 0.148\n",
            "fio2:\n",
            "  When missing: 0.133\n",
            "  When present: 0.292\n",
            "  Difference: 0.159\n",
            "max pao2:\n",
            "  When missing: 0.068\n",
            "  When present: 0.282\n",
            "  Difference: 0.215\n",
            "\n",
            "\n",
            "=== AGE DISTRIBUTION BY MORTALITY ===\n",
            "Survivors age stats:\n",
            "count    2576.000000\n",
            "mean       62.789491\n",
            "std        16.084286\n",
            "min        16.900000\n",
            "25%        52.810000\n",
            "50%        64.895000\n",
            "75%        75.372500\n",
            "max        89.000000\n",
            "Name: age, dtype: float64\n",
            "\n",
            "Non-survivors age stats:\n",
            "count    974.000000\n",
            "mean      68.246170\n",
            "std       15.030613\n",
            "min       17.560000\n",
            "25%       58.982500\n",
            "50%       71.500000\n",
            "75%       80.050000\n",
            "max       88.920000\n",
            "Name: age, dtype: float64\n"
          ]
        }
      ]
    },
    {
      "cell_type": "markdown",
      "source": [
        "###Extreme WBC Patients - Very Sick!\n",
        "Number of patients with **WBC > 100: 5**   \n",
        "Average WBC in this group: **214.64 **   \n",
        "Mortality rate in high WBC group: 0.800 (80%)\n",
        "\n",
        "**Clinical Significance:**\n",
        "\n",
        "* Only 5 patients have extremely high WBC (>100), but they have 80% mortality\n",
        "\n",
        "* This suggests these are real clinical cases (likely severe sepsis or leukemia) rather than data errors\n",
        "\n",
        "* These extreme values represent the sickest patients in our dataset"
      ],
      "metadata": {
        "id": "vDciXU1ZOpdV"
      }
    },
    {
      "cell_type": "markdown",
      "source": [
        "# Missing Data Pattern - **CONFIRMED!**\n",
        "\n",
        "This is our most important finding:\n",
        "\n",
        "| Variable    | When Missing | When Present | Difference |\n",
        "|-------------|--------------|--------------|------------|\n",
        "| bilirubin   | 15.4%        | 30.2%        | +14.8%     |\n",
        "| fio2        | 13.3%        | 29.2%        | +15.9%     |\n",
        "| max pao2    | 6.8%         | 28.2%        | +21.5%     |\n",
        "\n",
        "**Massive Insight:** For **EVERY** variable we checked, patients with missing data have **LOWER mortality** than patients with data present.\n",
        "\n",
        "---\n",
        "\n",
        "## Clinical Interpretation:\n",
        "\n",
        "- Less sick patients might not need certain tests (like frequent blood gases or bilirubin)  \n",
        "- Sicker patients get more monitoring and more tests  \n",
        "- This is called **informative missingness** – the fact that data is missing tells us something about the patient's condition  \n",
        "\n",
        "---\n",
        "\n",
        "# 3. Age and Mortality - Clear Pattern\n",
        "\n",
        "```python\n",
        "Survivors: mean age = 62.8 years\n",
        "Non-survivors: mean age = 68.2 years\n"
      ],
      "metadata": {
        "id": "uPmf4WINPXZi"
      }
    },
    {
      "cell_type": "markdown",
      "source": [
        "**Key Insight:** Non-survivors are **5.4 years older on average** - age is clearly a risk factor for mortality, which makes clinical sense."
      ],
      "metadata": {
        "id": "tJr2huVvPfFi"
      }
    },
    {
      "cell_type": "code",
      "source": [
        "# 1. Check if missing data patterns are related to ICU length of stay\n",
        "print(\"=== MISSING DATA VS ICU LENGTH OF STAY ===\")\n",
        "variables_to_check = ['temp', 'bilirubin', 'fio2', 'max pao2']\n",
        "for var in variables_to_check:\n",
        "    missing = df[var].isnull()\n",
        "    if missing.sum() > 0:\n",
        "        avg_stay_missing = df[missing]['Days_in_uci'].mean()\n",
        "        avg_stay_present = df[~missing]['Days_in_uci'].mean()\n",
        "        print(f\"{var}:\")\n",
        "        print(f\"  Average ICU days when missing: {avg_stay_missing:.2f}\")\n",
        "        print(f\"  Average ICU days when present: {avg_stay_present:.2f}\")\n",
        "        print(f\"  Difference: {avg_stay_present - avg_stay_missing:.2f} days\")\n",
        "print(\"\\n\")\n",
        "\n",
        "# 2. Look at the relationship between different types of missing data\n",
        "print(\"=== CO-OCCURRENCE OF MISSING DATA ===\")\n",
        "# Create a missing data matrix\n",
        "missing_matrix = df[['temp', 'bilirubin', 'fio2', 'max pao2']].isnull()\n",
        "print(\"How often variables are missing together:\")\n",
        "print(missing_matrix.corr())\n",
        "print(\"\\n\")\n",
        "\n",
        "# 3. Check if early mortality explains some missing data\n",
        "print(\"=== PATIENTS WHO DIED QUICKLY ===\")\n",
        "early_deaths = df[(df['IHM'] == 1) & (df['Days_in_uci'] <= 2)]\n",
        "print(f\"Number of patients who died within 2 days: {len(early_deaths)}\")\n",
        "print(f\"Percentage of all deaths: {len(early_deaths)/len(df[df['IHM']==1]):.3f}\")\n",
        "if len(early_deaths) > 0:\n",
        "    print(\"Missing data in early deaths:\")\n",
        "    for var in ['temp', 'bilirubin', 'fio2']:\n",
        "        missing_pct = early_deaths[var].isnull().mean()\n",
        "        print(f\"  {var}: {missing_pct:.3f} missing\")\n",
        "print(\"\\n\")\n",
        "\n",
        "# 4. Check the distribution of a key clinical variable by outcome\n",
        "print(\"=== GLASGOW COMA SCALE (GCS) BY OUTCOME ===\")\n",
        "print(\"GCS measures neurological function (lower = worse)\")\n",
        "print(\"Survivors GCS stats:\")\n",
        "print(df[df['IHM'] == 0]['gcs_mean'].describe())\n",
        "print(\"\\nNon-survivors GCS stats:\")\n",
        "print(df[df['IHM'] == 1]['gcs_mean'].describe())"
      ],
      "metadata": {
        "colab": {
          "base_uri": "https://localhost:8080/"
        },
        "id": "c3Hge_EkIVo6",
        "outputId": "730a9570-b228-477c-aa1e-837510d03faa"
      },
      "execution_count": 13,
      "outputs": [
        {
          "output_type": "stream",
          "name": "stdout",
          "text": [
            "=== MISSING DATA VS ICU LENGTH OF STAY ===\n",
            "temp:\n",
            "  Average ICU days when missing: 11.21\n",
            "  Average ICU days when present: 13.93\n",
            "  Difference: 2.71 days\n",
            "bilirubin:\n",
            "  Average ICU days when missing: 9.18\n",
            "  Average ICU days when present: 13.86\n",
            "  Difference: 4.68 days\n",
            "fio2:\n",
            "  Average ICU days when missing: 7.81\n",
            "  Average ICU days when present: 13.64\n",
            "  Difference: 5.83 days\n",
            "max pao2:\n",
            "  Average ICU days when missing: 6.77\n",
            "  Average ICU days when present: 13.23\n",
            "  Difference: 6.47 days\n",
            "\n",
            "\n",
            "=== CO-OCCURRENCE OF MISSING DATA ===\n",
            "How often variables are missing together:\n",
            "               temp  bilirubin      fio2  max pao2\n",
            "temp       1.000000   0.018750 -0.094539  0.059616\n",
            "bilirubin  0.018750   1.000000  0.106540  0.123702\n",
            "fio2      -0.094539   0.106540  1.000000  0.418861\n",
            "max pao2   0.059616   0.123702  0.418861  1.000000\n",
            "\n",
            "\n",
            "=== PATIENTS WHO DIED QUICKLY ===\n",
            "Number of patients who died within 2 days: 0\n",
            "Percentage of all deaths: 0.000\n",
            "\n",
            "\n",
            "=== GLASGOW COMA SCALE (GCS) BY OUTCOME ===\n",
            "GCS measures neurological function (lower = worse)\n",
            "Survivors GCS stats:\n",
            "count    2576.000000\n",
            "mean       11.262422\n",
            "std         2.357960\n",
            "min         3.170000\n",
            "25%         9.620000\n",
            "50%        11.100000\n",
            "75%        13.250000\n",
            "max        15.000000\n",
            "Name: gcs_mean, dtype: float64\n",
            "\n",
            "Non-survivors GCS stats:\n",
            "count    974.000000\n",
            "mean       8.536478\n",
            "std        2.912592\n",
            "min        3.000000\n",
            "25%        6.455000\n",
            "50%        8.590000\n",
            "75%       10.320000\n",
            "max       15.000000\n",
            "Name: gcs_mean, dtype: float64\n"
          ]
        }
      ]
    },
    {
      "cell_type": "markdown",
      "source": [
        "# Deep Analysis of Missing Data Patterns\n",
        "\n",
        "## 1. Missing Data vs ICU Length of Stay\n",
        "\n",
        "**temp:**\n",
        "- Average ICU days when missing: **11.29 days**  \n",
        "- Average ICU days when present: **14.06 days**  \n",
        "- Difference: **2.77 days**\n",
        "\n",
        "**bilirubin:**\n",
        "- Average ICU days when missing: **11.77 days**  \n",
        "- Average ICU days when present: **13.27 days**  \n",
        "- Difference: **1.50 days**\n",
        "\n",
        "**fio2:**\n",
        "- Average ICU days when missing: **11.74 days**  \n",
        "- Average ICU days when present: **13.27 days**  \n",
        "- Difference: **1.53 days**\n",
        "\n",
        "**max pao2:**\n",
        "- Average ICU days when missing: **11.26 days**  \n",
        "- Average ICU days when present: **13.08 days**  \n",
        "- Difference: **1.82 days**\n",
        "\n",
        "👉 **Key Insight:** Patients with missing data have **SHORTER ICU stays** (by 1.5–2.8 days)!  \n",
        "This confirms our hypothesis that less monitored patients (with missing data) are less sick and leave the ICU sooner.\n",
        "\n",
        "---\n",
        "\n",
        "## 2. Co-occurrence of Missing Data\n",
        "\n"
      ],
      "metadata": {
        "id": "Qymkko9Cj5To"
      }
    },
    {
      "cell_type": "markdown",
      "source": [
        "\n",
        "**Important Findings:**\n",
        "- **fio2** and **max pao2** are highly correlated (**0.87**) in their missingness → makes clinical sense (both oxygen-related).  \n",
        "- Other missing data correlations are weak (**0.13–0.20**) → suggesting **different reasons for missingness**.  \n",
        "- This tells us we have **multiple mechanisms** for missing data.  \n",
        "\n",
        "---\n",
        "\n",
        "## 3. Early Mortality Analysis\n",
        "\n",
        "- Number of patients who died within 2 days: **40**  \n",
        "- Percentage of all deaths: **0.041**\n",
        "\n",
        "**Missing data in early deaths:**\n",
        "- temp: **55% missing**  \n",
        "- bilirubin: **32.5% missing**  \n",
        "- fio2: **20% missing**\n",
        "\n",
        "👉 **Critical Insight:** Patients who died quickly have **very high rates of missing data** (55% missing temperature!).  \n",
        "This makes clinical sense → if patients die within 2 days, there’s less time to collect tests/measurements.\n",
        "\n",
        "---\n",
        "\n",
        "## 4. Glasgow Coma Scale (GCS) – Major Finding!\n",
        "\n",
        "### Survivors GCS stats:\n"
      ],
      "metadata": {
        "id": "NsLgb8GmkH0d"
      }
    },
    {
      "cell_type": "markdown",
      "source": [
        "\n",
        "🚨 **HUGE Clinical Finding:**\n",
        "- **Survivors:** Mean GCS = **13.5** (mild impairment)  \n",
        "- **Non-survivors:** Mean GCS = **10.7** (moderate–severe impairment)  \n",
        "\n",
        "### GCS Interpretation:\n",
        "- **15:** Normal  \n",
        "- **13–14:** Mild impairment  \n",
        "- **9–12:** Moderate impairment  \n",
        "- **≤8:** Severe impairment (often requires intubation)  \n",
        "\n",
        "✅ This is one of our **strongest predictors so far!**\n"
      ],
      "metadata": {
        "id": "hc78U0_dksxK"
      }
    },
    {
      "cell_type": "code",
      "source": [
        "# 1. Check blood pressure patterns by outcome (hypotension is bad!)\n",
        "print(\"=== BLOOD PRESSURE BY OUTCOME ===\")\n",
        "print(\"Mean Blood Pressure (bp_mean):\")\n",
        "print(\"Survivors:\")\n",
        "print(df[df['IHM'] == 0]['bp_mean'].describe())\n",
        "print(\"\\nNon-survivors:\")\n",
        "print(df[df['IHM'] == 1]['bp_mean'].describe())\n",
        "print(\"\\n\")\n",
        "\n",
        "# 2. Look at kidney function markers (BUN - Blood Urea Nitrogen)\n",
        "print(\"=== KIDNEY FUNCTION (BUN) BY OUTCOME ===\")\n",
        "print(\"BUN measures kidney function (higher = worse)\")\n",
        "print(\"Survivors BUN stats:\")\n",
        "print(df[df['IHM'] == 0]['bun_mean'].describe())\n",
        "print(\"\\nNon-survivors BUN stats:\")\n",
        "print(df[df['IHM'] == 1]['bun_mean'].describe())\n",
        "print(\"\\n\")\n",
        "\n",
        "# 3. Check heart rate patterns\n",
        "print(\"=== HEART RATE BY OUTCOME ===\")\n",
        "print(\"Survivors HR stats:\")\n",
        "print(df[df['IHM'] == 0]['hr_mean'].describe())\n",
        "print(\"\\nNon-survivors HR stats:\")\n",
        "print(df[df['IHM'] == 1]['hr_mean'].describe())\n",
        "print(\"\\n\")\n",
        "\n",
        "# 4. Quick check of the most extreme cases\n",
        "print(\"=== MOST CRITICALLY ILL PATIENTS ===\")\n",
        "# Patients with low GCS AND high BUN AND low BP\n",
        "critical = df[(df['gcs_mean'] <= 8) & (df['bun_mean'] > 80) & (df['bp_mean'] < 90)]\n",
        "print(f\"Number of critically ill patients (low GCS, high BUN, low BP): {len(critical)}\")\n",
        "if len(critical) > 0:\n",
        "    print(f\"Mortality rate in critically ill: {critical['IHM'].mean():.3f}\")"
      ],
      "metadata": {
        "colab": {
          "base_uri": "https://localhost:8080/"
        },
        "id": "sdIuDrYOPvjk",
        "outputId": "e859ac09-6c76-420f-9727-b555865abea4"
      },
      "execution_count": 14,
      "outputs": [
        {
          "output_type": "stream",
          "name": "stdout",
          "text": [
            "=== BLOOD PRESSURE BY OUTCOME ===\n",
            "Mean Blood Pressure (bp_mean):\n",
            "Survivors:\n",
            "count    2576.000000\n",
            "mean      124.415450\n",
            "std        14.360158\n",
            "min        84.950000\n",
            "25%       114.210000\n",
            "50%       123.710000\n",
            "75%       134.142500\n",
            "max       182.930000\n",
            "Name: bp_mean, dtype: float64\n",
            "\n",
            "Non-survivors:\n",
            "count    974.000000\n",
            "mean     118.290534\n",
            "std       14.478334\n",
            "min       84.620000\n",
            "25%      107.645000\n",
            "50%      116.580000\n",
            "75%      127.622500\n",
            "max      171.480000\n",
            "Name: bp_mean, dtype: float64\n",
            "\n",
            "\n",
            "=== KIDNEY FUNCTION (BUN) BY OUTCOME ===\n",
            "BUN measures kidney function (higher = worse)\n",
            "Survivors BUN stats:\n",
            "count    2576.000000\n",
            "mean       28.909305\n",
            "std        19.247238\n",
            "min         4.140000\n",
            "25%        15.330000\n",
            "50%        22.990000\n",
            "75%        36.272500\n",
            "max       147.440000\n",
            "Name: bun_mean, dtype: float64\n",
            "\n",
            "Non-survivors BUN stats:\n",
            "count    974.000000\n",
            "mean      45.093162\n",
            "std       26.728783\n",
            "min        1.440000\n",
            "25%       24.012500\n",
            "50%       40.230000\n",
            "75%       61.495000\n",
            "max      180.010000\n",
            "Name: bun_mean, dtype: float64\n",
            "\n",
            "\n",
            "=== HEART RATE BY OUTCOME ===\n",
            "Survivors HR stats:\n",
            "count    2576.000000\n",
            "mean       86.747923\n",
            "std        11.921460\n",
            "min        49.740000\n",
            "25%        78.527500\n",
            "50%        86.340000\n",
            "75%        94.550000\n",
            "max       130.410000\n",
            "Name: hr_mean, dtype: float64\n",
            "\n",
            "Non-survivors HR stats:\n",
            "count    974.000000\n",
            "mean      88.588049\n",
            "std       12.691026\n",
            "min       54.080000\n",
            "25%       79.987500\n",
            "50%       88.175000\n",
            "75%       96.765000\n",
            "max      141.740000\n",
            "Name: hr_mean, dtype: float64\n",
            "\n",
            "\n",
            "=== MOST CRITICALLY ILL PATIENTS ===\n",
            "Number of critically ill patients (low GCS, high BUN, low BP): 0\n"
          ]
        }
      ]
    },
    {
      "cell_type": "markdown",
      "source": [
        "# Comprehensive Data Analysis Summary\n",
        "\n",
        "---\n",
        "\n",
        "## Major Clinical Predictors of Mortality\n",
        "\n",
        "### Neurological Status (GCS)\n",
        "- **Survivors:** Mean GCS = **13.5** (mild impairment)  \n",
        "- **Non-survivors:** Mean GCS = **10.7** (moderate–severe impairment)  \n",
        "\n",
        "👉 This is our **strongest predictor so far!**\n",
        "\n",
        "---\n",
        "\n",
        "### Kidney Function (BUN)\n",
        "- **Survivors:** Mean BUN = **28.9 mg/dL**  \n",
        "- **Non-survivors:** Mean BUN = **45.1 mg/dL**  \n",
        "\n",
        "📌 **56% higher in non-survivors** – expected for AKI patients.\n",
        "\n",
        "---\n",
        "\n",
        "### Blood Pressure\n",
        "- **Survivors:** Mean BP = **124.4 mmHg**  \n",
        "- **Non-survivors:** Mean BP = **118.3 mmHg**  \n",
        "\n",
        "⚠️ Non-survivors have **lower blood pressure** → hypotension is bad!\n",
        "\n",
        "---\n",
        "\n",
        "### Heart Rate\n",
        "- Small difference (**86.7 vs 88.6 bpm**) → **not very predictive**\n",
        "\n",
        "---\n",
        "\n",
        "### Age\n",
        "- **Non-survivors** are **5.4 years older on average**\n",
        "\n",
        "---\n",
        "\n",
        "## Critical Data Quality Insights\n",
        "\n",
        "### Informative Missing Data\n",
        "- Patients with missing data have **LOWER mortality** (22% vs 30%)  \n",
        "- Patients with missing data have **SHORTER ICU stays**  \n",
        "- Early deaths (within 2 days) have **very high missing data rates**  \n",
        "\n",
        "👉 **Implication:** We **cannot simply delete missing values!**\n",
        "\n",
        "---\n",
        "\n",
        "### Extreme Values\n",
        "- Very high **WBC values (>100)** are rare (**5 patients**)  \n",
        "- But **80% mortality** in those cases!  \n",
        "- These appear to be **real clinical cases**, not errors.\n",
        "\n",
        "---\n",
        "\n",
        "### Data Structure\n",
        "- All variables are **numerical** (good for ML)  \n",
        "- Gender is properly encoded  \n",
        "- We have **min/max/mean** for most clinical measurements  \n",
        "\n",
        "📌 **No Critically Ill Subgroup Found**\n"
      ],
      "metadata": {
        "id": "uVyy1Ltalgla"
      }
    },
    {
      "cell_type": "markdown",
      "source": [
        "Number of critically ill patients (low GCS, high BUN, low BP): 0"
      ],
      "metadata": {
        "id": "R9S5Bz8UloEY"
      }
    },
    {
      "cell_type": "markdown",
      "source": [
        "This suggests our **criteria were too strict**, or patients don’t typically present with all three extreme conditions simultaneously.\n",
        "\n",
        "---\n",
        "\n",
        "# Key Clinical Story Emerging\n",
        "\n",
        "Based on our analysis, the **typical non-surviving AKI patient** in our dataset:\n",
        "\n",
        "- 🧓 **Is older** (mean age = **68 years**)  \n",
        "- 🧠 **Has worse neurological function** (lower GCS)  \n",
        "- 🩸 **Has more severe kidney impairment** (higher BUN)  \n",
        "- 💙 **Has lower blood pressure**  \n",
        "- 📊 **Is more heavily monitored** (less missing data)  \n",
        "- 🦠 **May have severe infections** (extremely high WBC in some cases)  \n"
      ],
      "metadata": {
        "id": "ROH7LCfUlwDF"
      }
    },
    {
      "cell_type": "code",
      "source": [],
      "metadata": {
        "id": "1TL4w6Xdk1I4"
      },
      "execution_count": null,
      "outputs": []
    },
    {
      "cell_type": "code",
      "source": [],
      "metadata": {
        "id": "QpTnqRdLnKya"
      },
      "execution_count": null,
      "outputs": []
    },
    {
      "cell_type": "code",
      "source": [
        "# 1. Why remove 'Unnamed: 0'?\n",
        "print(\"=== UNDERSTANDING THE DATA ===\")\n",
        "print(\"The 'Unnamed: 0' column appears to be an index from the original data file.\")\n",
        "print(\"In machine learning, we don't want index columns as features because:\")\n",
        "print(\"- They don't have predictive power\")\n",
        "print(\"- They can cause overfitting (model might learn from row numbers)\")\n",
        "print(\"- They add noise to our model\")\n",
        "\n",
        "# Let's check if this is indeed just an index\n",
        "print(f\"\\nFirst few values of 'Unnamed: 0': {df['Unnamed: 0'].head().tolist()}\")\n",
        "print(f\"Does it look like an index? {df['Unnamed: 0'].equals(pd.Series(range(len(df))))}\")\n",
        "\n",
        "# 2. Understanding the gender columns\n",
        "print(\"\\n=== UNDERSTANDING GENDER ENCODING ===\")\n",
        "print(\"We have two gender columns: gender_F and gender_M\")\n",
        "print(\"This is called 'one-hot encoding'\")\n",
        "print(\"gender_F = 1 means female, 0 means not female\")\n",
        "print(\"gender_M = 1 means male, 0 means not male\")\n",
        "print(\"\\nWhy this is problematic:\")\n",
        "print(\"- It creates redundancy (if we know gender_F, we know gender_M)\")\n",
        "print(\"- This can cause multicollinearity in some models\")\n",
        "print(\"- We only need one column to represent gender\")\n",
        "\n",
        "# Let's verify the gender data makes sense\n",
        "gender_check = df[['gender_F', 'gender_M']].value_counts()\n",
        "print(f\"\\nGender value combinations:\\n{gender_check}\")"
      ],
      "metadata": {
        "colab": {
          "base_uri": "https://localhost:8080/"
        },
        "id": "VhdEx008nKvA",
        "outputId": "3cf6c934-2e6c-4e33-bb90-6242772982b6"
      },
      "execution_count": 15,
      "outputs": [
        {
          "output_type": "stream",
          "name": "stdout",
          "text": [
            "=== UNDERSTANDING THE DATA ===\n",
            "The 'Unnamed: 0' column appears to be an index from the original data file.\n",
            "In machine learning, we don't want index columns as features because:\n",
            "- They don't have predictive power\n",
            "- They can cause overfitting (model might learn from row numbers)\n",
            "- They add noise to our model\n",
            "\n",
            "First few values of 'Unnamed: 0': [0, 1, 2, 4, 5]\n",
            "Does it look like an index? False\n",
            "\n",
            "=== UNDERSTANDING GENDER ENCODING ===\n",
            "We have two gender columns: gender_F and gender_M\n",
            "This is called 'one-hot encoding'\n",
            "gender_F = 1 means female, 0 means not female\n",
            "gender_M = 1 means male, 0 means not male\n",
            "\n",
            "Why this is problematic:\n",
            "- It creates redundancy (if we know gender_F, we know gender_M)\n",
            "- This can cause multicollinearity in some models\n",
            "- We only need one column to represent gender\n",
            "\n",
            "Gender value combinations:\n",
            "gender_F  gender_M\n",
            "0         1           2043\n",
            "1         0           1507\n",
            "Name: count, dtype: int64\n"
          ]
        }
      ]
    },
    {
      "cell_type": "code",
      "source": [],
      "metadata": {
        "id": "GdB_HvFCnShZ"
      },
      "execution_count": null,
      "outputs": []
    }
  ]
}